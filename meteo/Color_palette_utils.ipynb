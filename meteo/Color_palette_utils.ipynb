{
 "cells": [
  {
   "cell_type": "code",
   "execution_count": 1,
   "metadata": {},
   "outputs": [],
   "source": [
    "import json\n",
    "styles_dict = {}\n",
    "\n",
    "def dump_magics_palette(synopsis_magic_style_dict):\n",
    "    title_en = synopsis_magic_style_dict['name']\n",
    "    magic_palette_dict = {}\n",
    "    for magic_def in synopsis_magic_style_dict['keys']:\n",
    "        _key = magic_def['key']['name'].lower()\n",
    "        _value = magic_def['value'].lower()\n",
    "        print(f\"{_key}: {_value}\")\n",
    "        magic_palette_dict.update({_key: _value})\n",
    "\n",
    "    "
   ]
  },
  {
   "cell_type": "code",
   "execution_count": 2,
   "metadata": {},
   "outputs": [],
   "source": [
    "styles_dict[\"RR_DAY_coolwarm_-100_100_10\"] = {\n",
    "        \"abstract_en\": None,\n",
    "        \"abstract_fr\": None,\n",
    "        \"keys\": [\n",
    "            {\n",
    "                \"client_order\": 0,\n",
    "                \"group\": {\n",
    "                    \"name\": \"MAGICS_0\",\n",
    "                    \"uid\": \"2a9ddeb4-2bd1-c6ee-7300-efed7857cf61\"\n",
    "                },\n",
    "                \"key\": {\n",
    "                    \"name\": \"CONTOUR_LEVEL_LIST\",\n",
    "                    \"uid\": \"052a9922-fc16-7ee6-7661-f9225085140a\"\n",
    "                },\n",
    "                \"logical_condition\": \"True\",\n",
    "                \"subset\": False,\n",
    "                \"value\": \"{\\\"floatarray\\\": [-100.0, -80.0, -60.0, -40.0, -20.0, 0.0, 20.0, 40.0, 60.0, 80.0, 100.0]}\"\n",
    "            },\n",
    "            {\n",
    "                \"client_order\": 0,\n",
    "                \"group\": {\n",
    "                    \"name\": \"MAGICS_0\",\n",
    "                    \"uid\": \"2a9ddeb4-2bd1-c6ee-7300-efed7857cf61\"\n",
    "                },\n",
    "                \"key\": {\n",
    "                    \"name\": \"CONTOUR_MAX_LEVEL\",\n",
    "                    \"uid\": \"62b52c2b-6373-421a-105b-9dde68131fcc\"\n",
    "                },\n",
    "                \"logical_condition\": \"True\",\n",
    "                \"subset\": False,\n",
    "                \"value\": \"100.0\"\n",
    "            },\n",
    "            {\n",
    "                \"client_order\": 0,\n",
    "                \"group\": {\n",
    "                    \"name\": \"MAGICS_0\",\n",
    "                    \"uid\": \"2a9ddeb4-2bd1-c6ee-7300-efed7857cf61\"\n",
    "                },\n",
    "                \"key\": {\n",
    "                    \"name\": \"CONTOUR_SHADE_COLOUR_LIST\",\n",
    "                    \"uid\": \"9ee4c888-8448-92f6-a38e-7db3a8311083\"\n",
    "                },\n",
    "                \"logical_condition\": \"True\",\n",
    "                \"subset\": False,\n",
    "                \"value\": \"{\\\"stringarray\\\": [\\\"#3b4cc0\\\", \\\"#5a78e4\\\", \\\"#7da0f9\\\", \\\"#9fbfff\\\", \\\"#c1d4f4\\\", \\\"#dddcdc\\\", \\\"#f2cab5\\\", \\\"#f7aa8c\\\", \\\"#ed8366\\\", \\\"#d55042\\\", \\\"#b40426\\\"]}\"\n",
    "            },\n",
    "            {\n",
    "                \"client_order\": 0,\n",
    "                \"group\": {\n",
    "                    \"name\": \"MAGICS_0\",\n",
    "                    \"uid\": \"2a9ddeb4-2bd1-c6ee-7300-efed7857cf61\"\n",
    "                },\n",
    "                \"key\": {\n",
    "                    \"name\": \"CONTOUR_SHADE_MAX_LEVEL\",\n",
    "                    \"uid\": \"aae9928b-56a0-c3ca-1cea-74388bbac90d\"\n",
    "                },\n",
    "                \"logical_condition\": \"True\",\n",
    "                \"subset\": False,\n",
    "                \"value\": \"100.0\"\n",
    "            },\n",
    "            {\n",
    "                \"client_order\": 0,\n",
    "                \"group\": {\n",
    "                    \"name\": \"MAGICS_0\",\n",
    "                    \"uid\": \"2a9ddeb4-2bd1-c6ee-7300-efed7857cf61\"\n",
    "                },\n",
    "                \"key\": {\n",
    "                    \"name\": \"CONTOUR_SHADE_MIN_LEVEL\",\n",
    "                    \"uid\": \"c67e2e9d-8b2f-f24f-3ae3-5155f7c98ecf\"\n",
    "                },\n",
    "                \"logical_condition\": \"True\",\n",
    "                \"subset\": False,\n",
    "                \"value\": \"-100.0\"\n",
    "            }\n",
    "        ],\n",
    "        \"modifiable\": True,\n",
    "        \"name\": \"RR_DAY_coolwarm_-100_100_10\",\n",
    "        \"parent\": {\n",
    "            \"name\": \"_PRECIP__GROUND__SHADING\",\n",
    "            \"uid\": \"69b32243-ff28-46f6-b52f-0e1a5776c327\"\n",
    "        },\n",
    "        \"plugin\": {\n",
    "            \"name\": \"model\",\n",
    "            \"uid\": \"16dc84a5-a779-4e5c-b227-04dad91d114c\"\n",
    "        },\n",
    "        \"title_en\": \"RR_DAY_coolwarm_-100_100_10\",\n",
    "        \"title_fr\": \"RR_DAY_coolwarm_-100_100_10\",\n",
    "        \"type\": \"complex\",\n",
    "        \"uid\": \"30a01fb9-c265-489d-962a-ee8aa3986a19\",\n",
    "        \"unit\": {\n",
    "            \"name\": \"rainfall\",\n",
    "            \"uid\": \"794374f8-c0c2-487f-bf1f-7e4a05dbd3ca\"\n",
    "        },\n",
    "        \"unit_db_repr\": {\n",
    "            \"name\": \"rainfall_m\",\n",
    "            \"uid\": \"c8178ea6-1df6-41df-aa83-9b860c7e6cd9\"\n",
    "        },\n",
    "        \"unit_user_repr\": {\n",
    "            \"name\": \"rainfall_mm\",\n",
    "            \"uid\": \"36c569ca-d70c-452c-9331-36b396bc29a1\"\n",
    "        }\n",
    "    }"
   ]
  },
  {
   "cell_type": "code",
   "execution_count": 3,
   "metadata": {},
   "outputs": [
    {
     "name": "stdout",
     "output_type": "stream",
     "text": [
      "contour_level_list: {\"floatarray\": [-100.0, -80.0, -60.0, -40.0, -20.0, 0.0, 20.0, 40.0, 60.0, 80.0, 100.0]}\n",
      "contour_max_level: 100.0\n",
      "contour_shade_colour_list: {\"stringarray\": [\"#3b4cc0\", \"#5a78e4\", \"#7da0f9\", \"#9fbfff\", \"#c1d4f4\", \"#dddcdc\", \"#f2cab5\", \"#f7aa8c\", \"#ed8366\", \"#d55042\", \"#b40426\"]}\n",
      "contour_shade_max_level: 100.0\n",
      "contour_shade_min_level: -100.0\n",
      "null\n"
     ]
    }
   ],
   "source": [
    "for style in styles_dict.values():\n",
    "    #print(style)\n",
    "    palettes_dict = dump_magics_palette(style)\n",
    "    \n",
    "    print(json.dumps(palettes_dict, indent=4))"
   ]
  },
  {
   "cell_type": "code",
   "execution_count": 6,
   "metadata": {},
   "outputs": [],
   "source": [
    "palette_definitions = {\n",
    "    \"RR_HOUR_YlGrBu\": {\n",
    "        \"Clef recherche\": \"#REF!\",\n",
    "        \"Physical size\": \"RR\",\n",
    "        \"Ref. period type\": \"Hour\",\n",
    "        \"\": \"\",\n",
    "        \"Function name\": 13650,\n",
    "        \"matplotlib name\": \"YlGnBu_r\", #\"YlGrBu\",\n",
    "        \"Min\": \"0\",\n",
    "        \"Max\": \"60\",\n",
    "        \"Levels\": 20,\n",
    "        \"Code\": \"RR_HOUR_YlGrBu___10\",\n",
    "    },\n",
    "    \"RR_DAY_YlGrBu\": {\n",
    "        \"Clef recherche\": \"#REF!\",\n",
    "        \"Physical size\": \"RR\",\n",
    "        \"Ref. period type\": \"Day\",\n",
    "        \"\": \"Group\",\n",
    "        \"Function name\": \"\",\n",
    "        \"matplotlib name\": \"YlGnBu_r\", #\"YlGrBu\",\n",
    "        \"Min\": 0,\n",
    "        \"Max\": 80,\n",
    "        \"Levels\": 20,\n",
    "        \"Code\": \"RR_DAY_YlGrBu_0_80_10\",\n",
    "    },\n",
    "    \"RR_DECADE_YlGrBu\": {\n",
    "        \"Clef recherche\": \"#REF!\",\n",
    "        \"Physical size\": \"RR\",\n",
    "        \"Ref. period type\": \"Decade\",\n",
    "        \"\": 0,\n",
    "        \"Function name\": \"\",\n",
    "        \"matplotlib name\": \"YlGnBu_r\", #\"YlGrBu\",\n",
    "        \"Min\": 0,\n",
    "        \"Max\": 200,\n",
    "        \"Levels\": 20,\n",
    "        \"Code\": \"RR_DECADE_YlGrBu_0_200_10\",\n",
    "    },\n",
    "    \"RR_MONTH_YlGrBu\": {\n",
    "        \"Clef recherche\": \"#REF!\",\n",
    "        \"Physical size\": \"RR\",\n",
    "        \"Ref. period type\": \"Month\",\n",
    "        \"\": 0,\n",
    "        \"Function name\": \"\",\n",
    "        \"matplotlib name\": \"YlGnBu_r\", #\"YlGrBu\",\n",
    "        \"Min\": 0,\n",
    "        \"Max\": 350,\n",
    "        \"Levels\": 20,\n",
    "        \"Code\": \"RR_MONTH_YlGrBu_0_350_10\",\n",
    "    },\n",
    "    \"RR_YEAR_YlGrBu\": {\n",
    "        \"Clef recherche\": \"#REF!\",\n",
    "        \"Physical size\": \"RR\",\n",
    "        \"Ref. period type\": \"Year\",\n",
    "        \"\": 0,\n",
    "        \"Function name\": \"\",\n",
    "        \"matplotlib name\": \"YlGnBu_r\", #\"YlGrBu\",\n",
    "        \"Min\": \"0\",\n",
    "        \"Max\": \"500\",\n",
    "        \"Levels\": 20,\n",
    "        \"Code\": \"RR_YEAR_YlGrBu___10\",\n",
    "    },\n",
    "    \"RR_DAY_coolwarm\": {\n",
    "        \"Clef recherche\": \"#REF!\",\n",
    "        \"Physical size\": \"RR\",\n",
    "        \"Ref. period type\": \"Day\",\n",
    "        \"\": 0,\n",
    "        \"Function name\": \"\",\n",
    "        \"matplotlib name\": \"coolwarm\",\n",
    "        \"Min\": -1,\n",
    "        \"Max\": 1,\n",
    "        \"Levels\": 20,\n",
    "        \"Code\": \"RR_DAY_coolwarm_-100_100_10\",\n",
    "    },\n",
    "    \"RR_DECADE_coolwarm\": {\n",
    "        \"Clef recherche\": \"#REF!\",\n",
    "        \"Physical size\": \"RR\",\n",
    "        \"Ref. period type\": \"Decade\",\n",
    "        \"\": 0,\n",
    "        \"Function name\": \"\",\n",
    "        \"matplotlib name\": \"coolwarm\",\n",
    "        \"Min\": -1,\n",
    "        \"Max\": 1,\n",
    "        \"Levels\": 20,\n",
    "        \"Code\": \"RR_DECADE_coolwarm_-100_100_10\",\n",
    "    },\n",
    "    \"RR_MONTH_coolwarm\": {\n",
    "        \"Clef recherche\": \"#REF!\",\n",
    "        \"Physical size\": \"RR\",\n",
    "        \"Ref. period type\": \"Month\",\n",
    "        \"\": 0,\n",
    "        \"Function name\": \"\",\n",
    "        \"matplotlib name\": \"coolwarm\",\n",
    "        \"Min\": -1,\n",
    "        \"Max\": 1,\n",
    "        \"Levels\": 20,\n",
    "        \"Code\": \"RR_MONTH_coolwarm_-100_100_10\",\n",
    "    },\n",
    "    \"RR_MONTH_viridis\": {\n",
    "        \"Clef recherche\": \"#REF!\",\n",
    "        \"Physical size\": \"RR\",\n",
    "        \"Ref. period type\": \"Month\",\n",
    "        \"\": 0,\n",
    "        \"Function name\": \"\",\n",
    "        \"matplotlib name\": \"viridis\",\n",
    "        \"Min\": -350,\n",
    "        \"Max\": 350,\n",
    "        \"Levels\": 20,\n",
    "        \"Code\": \"RR_MONTH_viridis_-350_350_10\",\n",
    "    },\n",
    "    \"RR_DECADE_viridis\": {\n",
    "        \"Clef recherche\": \"#REF!\",\n",
    "        \"Physical size\": \"RR\",\n",
    "        \"Ref. period type\": \"Decade\",\n",
    "        \"\": 0,\n",
    "        \"Function name\": \"\",\n",
    "        \"matplotlib name\": \"viridis\",\n",
    "        \"Min\": -200,\n",
    "        \"Max\": 200,\n",
    "        \"Levels\": 20,\n",
    "        \"Code\": \"RR_DECADE_viridis_-200_200_10\",\n",
    "    },\n",
    "    \"RR_DAY_viridis\": {\n",
    "        \"Clef recherche\": \"#REF!\",\n",
    "        \"Physical size\": \"RR\",\n",
    "        \"Ref. period type\": \"Day\",\n",
    "        \"\": 0,\n",
    "        \"Function name\": \"\",\n",
    "        \"matplotlib name\": \"viridis\",\n",
    "        \"Min\": -80,\n",
    "        \"Max\": 80,\n",
    "        \"Levels\": 20,\n",
    "        \"Code\": \"RR_DAY_viridis_-80_80_10\",\n",
    "    },\n",
    "    \"RROC_viridis\": {\n",
    "        \"Clef recherche\": \"#REF!\",\n",
    "        \"Physical size\": \"RROC\",\n",
    "        \"Ref. period type\": \"\",\n",
    "        \"\": 0,\n",
    "        \"Function name\": \"\",\n",
    "        \"matplotlib name\": \"viridis\",\n",
    "        \"Min\": 0,\n",
    "        \"Max\": 1,\n",
    "        \"Levels\": 20,\n",
    "        \"Code\": \"RROC__viridis_0_100_10\",\n",
    "    },\n",
    "    \"RROC_coolwarm\": {\n",
    "        \"Clef recherche\": \"#REF!\",\n",
    "        \"Physical size\": \"RROC\",\n",
    "        \"Ref. period type\": \"\",\n",
    "        \"\": 0,\n",
    "        \"Function name\": \"\",\n",
    "        \"matplotlib name\": \"coolwarm\",\n",
    "        \"Min\": -1.0,\n",
    "        \"Max\": 1.0,\n",
    "        \"Levels\": 20,\n",
    "        \"Code\": \"RROC__coolwarm_-20_20_10\",\n",
    "    },\n",
    "    \"TM_rainbow\": {\n",
    "        \"Clef recherche\": \"#REF!\",\n",
    "        \"Physical size\": \"TM\",\n",
    "        \"Ref. period type\": \"\",\n",
    "        \"\": 0,\n",
    "        \"Function name\": \"\",\n",
    "        \"matplotlib name\": \"rainbow\",\n",
    "        \"Min\": 10,\n",
    "        \"Max\": 35,\n",
    "        \"Levels\": 20,\n",
    "        \"Code\": \"TM__rainbow_10_35_10\",\n",
    "    },\n",
    "    \"TX_rainbow\": {\n",
    "        \"Clef recherche\": \"#REF!\",\n",
    "        \"Physical size\": \"TX\",\n",
    "        \"Ref. period type\": \"\",\n",
    "        \"\": 0,\n",
    "        \"Function name\": \"\",\n",
    "        \"matplotlib name\": \"rainbow\",\n",
    "        \"Min\": 10,\n",
    "        \"Max\": 35,\n",
    "        \"Levels\": 20,\n",
    "        \"Code\": \"TX__rainbow_10_35_10\",\n",
    "    },\n",
    "    \"TX_DAY_coolwarm\": {\n",
    "        \"Clef recherche\": \"#REF!\",\n",
    "        \"Physical size\": \"TX\",\n",
    "        \"Ref. period type\": \"Day\",\n",
    "        \"\": 0,\n",
    "        \"Function name\": \"\",\n",
    "        \"matplotlib name\": \"coolwarm\",\n",
    "        \"Min\": -10,\n",
    "        \"Max\": 10,\n",
    "        \"Levels\": 20,\n",
    "        \"Code\": \"TX_DAY_coolwarm_-10_10_10\",\n",
    "    },\n",
    "    \"TX_DECADE_coolwarm\": {\n",
    "        \"Clef recherche\": \"#REF!\",\n",
    "        \"Physical size\": \"TX\",\n",
    "        \"Ref. period type\": \"Decade\",\n",
    "        \"\": 0,\n",
    "        \"Function name\": \"\",\n",
    "        \"matplotlib name\": \"coolwarm\",\n",
    "        \"Min\": -5,\n",
    "        \"Max\": 5,\n",
    "        \"Levels\": 20,\n",
    "        \"Code\": \"TX_DECADE_coolwarm_-5_5_10\",\n",
    "    },\n",
    "    \"TX_MONTH_coolwarm\": {\n",
    "        \"Clef recherche\": \"#REF!\",\n",
    "        \"Physical size\": \"TX\",\n",
    "        \"Ref. period type\": \"Month\",\n",
    "        \"\": 0,\n",
    "        \"Function name\": \"\",\n",
    "        \"matplotlib name\": \"coolwarm\",\n",
    "        \"Min\": -2,\n",
    "        \"Max\": 2,\n",
    "        \"Levels\": 20,\n",
    "        \"Code\": \"TX_MONTH_coolwarm_-2_2_10\",\n",
    "    },\n",
    "    \"TOC_rainbow\": {\n",
    "        \"Clef recherche\": \"#REF!\",\n",
    "        \"Physical size\": \"TOC\",\n",
    "        \"Ref. period type\": \"\",\n",
    "        \"\": 0,\n",
    "        \"Function name\": \"\",\n",
    "        \"matplotlib name\": \"rainbow\",\n",
    "        \"Min\": 0,\n",
    "        \"Max\": 100,\n",
    "        \"Levels\": 20,\n",
    "        \"Code\": \"TOC__rainbow_0_100_10\",\n",
    "    },\n",
    "    \"TM_DAY_coolwarm\": {\n",
    "        \"Clef recherche\": \"#REF!\",\n",
    "        \"Physical size\": \"TM\",\n",
    "        \"Ref. period type\": \"Day\",\n",
    "        \"\": 0,\n",
    "        \"Function name\": \"\",\n",
    "        \"matplotlib name\": \"coolwarm\",\n",
    "        \"Min\": -10,\n",
    "        \"Max\": 10,\n",
    "        \"Levels\": 20,\n",
    "        \"Code\": \"TM_DAY_coolwarm_-10_10_10\",\n",
    "    },\n",
    "    \"TM_DECADE_coolwarm\": {\n",
    "        \"Clef recherche\": \"#REF!\",\n",
    "        \"Physical size\": \"TM\",\n",
    "        \"Ref. period type\": \"Decade\",\n",
    "        \"\": 0,\n",
    "        \"Function name\": \"\",\n",
    "        \"matplotlib name\": \"coolwarm\",\n",
    "        \"Min\": -5,\n",
    "        \"Max\": 5,\n",
    "        \"Levels\": 20,\n",
    "        \"Code\": \"TM_DECADE_coolwarm_-5_5_10\",\n",
    "    },\n",
    "    \"TM_MONTH_coolwarm\": {\n",
    "        \"Clef recherche\": \"#REF!\",\n",
    "        \"Physical size\": \"TM\",\n",
    "        \"Ref. period type\": \"Month\",\n",
    "        \"\": 0,\n",
    "        \"Function name\": \"\",\n",
    "        \"matplotlib name\": \"coolwarm\",\n",
    "        \"Min\": -2,\n",
    "        \"Max\": 2,\n",
    "        \"Levels\": 20,\n",
    "        \"Code\": \"TM_MONTH_coolwarm_-2_2_10\",\n",
    "    },\n",
    "    \"TN_rainbow\": {\n",
    "        \"Clef recherche\": \"#REF!\",\n",
    "        \"Physical size\": \"TN\",\n",
    "        \"Ref. period type\": \"\",\n",
    "        \"\": 0,\n",
    "        \"Function name\": \"\",\n",
    "        \"matplotlib name\": \"rainbow\",\n",
    "        \"Min\": 10,\n",
    "        \"Max\": 35,\n",
    "        \"Levels\": 20,\n",
    "        \"Code\": \"TN__rainbow_10_35_10\",\n",
    "    },\n",
    "    \"TN_DAY_coolwarm\": {\n",
    "        \"Clef recherche\": \"#REF!\",\n",
    "        \"Physical size\": \"TN\",\n",
    "        \"Ref. period type\": \"Day\",\n",
    "        \"\": 0,\n",
    "        \"Function name\": \"\",\n",
    "        \"matplotlib name\": \"coolwarm\",\n",
    "        \"Min\": -10,\n",
    "        \"Max\": 10,\n",
    "        \"Levels\": 20,\n",
    "        \"Code\": \"TN_DAY_coolwarm_-10_10_10\",\n",
    "    },\n",
    "    \"TN_DECADE_coolwarm\": {\n",
    "        \"Clef recherche\": \"#REF!\",\n",
    "        \"Physical size\": \"TN\",\n",
    "        \"Ref. period type\": \"Decade\",\n",
    "        \"\": 0,\n",
    "        \"Function name\": \"\",\n",
    "        \"matplotlib name\": \"coolwarm\",\n",
    "        \"Min\": -5,\n",
    "        \"Max\": 5,\n",
    "        \"Levels\": 20,\n",
    "        \"Code\": \"TN_DECADE_coolwarm_-5_5_10\",\n",
    "    },\n",
    "    \"TN_MONTH_coolwarm\": {\n",
    "        \"Clef recherche\": \"#REF!\",\n",
    "        \"Physical size\": \"TN\",\n",
    "        \"Ref. period type\": \"Month\",\n",
    "        \"\": 0,\n",
    "        \"Function name\": \"\",\n",
    "        \"matplotlib name\": \"coolwarm\",\n",
    "        \"Min\": -2,\n",
    "        \"Max\": 2,\n",
    "        \"Levels\": 20,\n",
    "        \"Code\": \"TN_MONTH_coolwarm_-2_2_10\",\n",
    "    },\n",
    "    \"TOC_coolwarm\": {\n",
    "        \"Clef recherche\": \"#REF!\",\n",
    "        \"Physical size\": \"TOC\",\n",
    "        \"Ref. period type\": \"\",\n",
    "        \"\": 0,\n",
    "        \"Function name\": \"\",\n",
    "        \"matplotlib name\": \"coolwarm\",\n",
    "        \"Min\": -100,\n",
    "        \"Max\": 100,\n",
    "        \"Levels\": 20,\n",
    "        \"Code\": \"TOC__coolwarm_-20_20_10\",\n",
    "    },\n",
    "    \"TXN_rainbow\": {\n",
    "        \"Clef recherche\": \"#REF!\",\n",
    "        \"Physical size\": \"TXN\",\n",
    "        \"Ref. period type\": \"\",\n",
    "        \"\": 0,\n",
    "        \"Function name\": \"\",\n",
    "        \"matplotlib name\": \"rainbow\",\n",
    "        \"Min\": 18,\n",
    "        \"Max\": 25,\n",
    "        \"Levels\": 20,\n",
    "        \"Code\": \"TXN__rainbow_18_25_10\",\n",
    "    },\n",
    "    \"TXX_rainbow\": {\n",
    "        \"Clef recherche\": \"#REF!\",\n",
    "        \"Physical size\": \"TXX\",\n",
    "        \"Ref. period type\": \"\",\n",
    "        \"\": 0,\n",
    "        \"Function name\": \"\",\n",
    "        \"matplotlib name\": \"rainbow\",\n",
    "        \"Min\": 24,\n",
    "        \"Max\": 38,\n",
    "        \"Levels\": 20,\n",
    "        \"Code\": \"TXX__rainbow_24_38_10\",\n",
    "    },\n",
    "    \"TNN_rainbow\": {\n",
    "        \"Clef recherche\": \"#REF!\",\n",
    "        \"Physical size\": \"TNN\",\n",
    "        \"Ref. period type\": \"\",\n",
    "        \"\": 0,\n",
    "        \"Function name\": \"\",\n",
    "        \"matplotlib name\": \"rainbow\",\n",
    "        \"Min\": 7,\n",
    "        \"Max\": 17,\n",
    "        \"Levels\": 20,\n",
    "        \"Code\": \"TNN__rainbow_7_17_10\",\n",
    "    },\n",
    "    \"TNX_rainbow\": {\n",
    "        \"Clef recherche\": \"#REF!\",\n",
    "        \"Physical size\": \"TNX\",\n",
    "        \"Ref. period type\": \"\",\n",
    "        \"\": 0,\n",
    "        \"Function name\": \"\",\n",
    "        \"matplotlib name\": \"rainbow\",\n",
    "        \"Min\": 14,\n",
    "        \"Max\": 24,\n",
    "        \"Levels\": 20,\n",
    "        \"Code\": \"TNX__rainbow_14_24_10\",\n",
    "    },\n",
    "    \"TNM_rainbow\": {\n",
    "        \"Clef recherche\": \"#REF!\",\n",
    "        \"Physical size\": \"TNM\",\n",
    "        \"Ref. period type\": \"\",\n",
    "        \"\": 0,\n",
    "        \"Function name\": \"\",\n",
    "        \"matplotlib name\": \"rainbow\",\n",
    "        \"Min\": 7,\n",
    "        \"Max\": 33,\n",
    "        \"Levels\": 20,\n",
    "        \"Code\": \"TNM__rainbow_7_33_10\",\n",
    "    },\n",
    "    \"TXM_rainbow\": {\n",
    "        \"Clef recherche\": \"#REF!\",\n",
    "        \"Physical size\": \"TXM\",\n",
    "        \"Ref. period type\": \"\",\n",
    "        \"\": 0,\n",
    "        \"Function name\": \"\",\n",
    "        \"matplotlib name\": \"rainbow\",\n",
    "        \"Min\": 14,\n",
    "        \"Max\": 38,\n",
    "        \"Levels\": 20,\n",
    "        \"Code\": \"TXM__rainbow_14_38_10\",\n",
    "    },\n",
    "    \"TMM_rainbow\": {\n",
    "        \"Clef recherche\": \"#REF!\",\n",
    "        \"Physical size\": \"TMM\",\n",
    "        \"Ref. period type\": \"\",\n",
    "        \"\": 0,\n",
    "        \"Function name\": \"\",\n",
    "        \"matplotlib name\": \"rainbow\",\n",
    "        \"Min\": 10,\n",
    "        \"Max\": 35,\n",
    "        \"Levels\": 25,\n",
    "        \"Code\": \"TMM__rainbow_10_35_10\",\n",
    "    }\n",
    "}"
   ]
  },
  {
   "cell_type": "code",
   "execution_count": 1,
   "metadata": {},
   "outputs": [],
   "source": [
    "import numpy as np\n",
    "import matplotlib as mpl\n",
    "import matplotlib.pyplot as plt\n",
    "import matplotlib.colors as mcolors\n",
    "\n",
    "from matplotlib import cm\n",
    "import math\n"
   ]
  },
  {
   "cell_type": "code",
   "execution_count": 2,
   "metadata": {},
   "outputs": [],
   "source": [
    "\n",
    "def compute_gradient_details(code, details):\n",
    "    print(code)\n",
    "    print(details)\n",
    "\n",
    "    gradient = np.linspace(float(details['Min']), float(details['Max']), int(details['Levels'])+1)\n",
    "    gradient = np.vstack((gradient, gradient))\n",
    "\n",
    "    fig, ax = plt.subplots(constrained_layout=True, figsize=(int(details['Levels'])+1, 1))\n",
    "\n",
    "    ax.imshow(gradient, aspect='auto', cmap=plt.get_cmap(details['matplotlib name']))\n",
    "    ax.text(-0.01, 0.5, code, va='center', ha='right', fontsize=10,\n",
    "                transform=ax.transAxes)\n",
    "\n",
    "    my_cmap = plt.get_cmap(details['matplotlib name'])\n",
    "    colors = [mcolors.rgb2hex(my_cmap(i)) for i in range(my_cmap.N)]\n",
    "\n",
    "    cols_palette = [colors[min(math.ceil(v), 255)] for v in np.linspace(0, len(colors), int(details['Levels'])+1)]\n",
    "\n",
    "    vals_palette = [float(v) for v in gradient[0]]\n",
    "\n",
    "    print(vals_palette)\n",
    "    print(cols_palette)\n",
    "    "
   ]
  },
  {
   "cell_type": "code",
   "execution_count": 4,
   "metadata": {},
   "outputs": [],
   "source": [
    "done_palette_entries = []"
   ]
  },
  {
   "cell_type": "code",
   "execution_count": 8,
   "metadata": {
    "scrolled": true
   },
   "outputs": [
    {
     "name": "stdout",
     "output_type": "stream",
     "text": [
      "TOC_rainbow\n",
      "{'Clef recherche': '#REF!', 'Physical size': 'TOC', 'Ref. period type': '', '': 0, 'Function name': '', 'matplotlib name': 'rainbow', 'Min': 0, 'Max': 100, 'Levels': 20, 'Code': 'TOC__rainbow_0_100_10'}\n",
      "[0.0, 5.0, 10.0, 15.0, 20.0, 25.0, 30.0, 35.0, 40.0, 45.0, 50.0, 55.0, 60.0, 65.0, 70.0, 75.0, 80.0, 85.0, 90.0, 95.0, 100.0]\n",
      "['#8000ff', '#6629fe', '#4c50fc', '#3176f8', '#1898f2', '#00b5eb', '#1acfe3', '#34e4d9', '#4ef3cd', '#68fcc1', '#80ffb4', '#9bfba5', '#b4f295', '#cee184', '#e8cb72', '#ffb360', '#ff934d', '#ff703a', '#ff4a26', '#ff2211', '#ff0000']\n"
     ]
    },
    {
     "data": {
      "image/png": "[encoded data removed]",
      "text/plain": [
       "<Figure size 1512x72 with 1 Axes>"
      ]
     },
     "metadata": {
      "needs_background": "light"
     },
     "output_type": "display_data"
    }
   ],
   "source": [
    "palette_id = 'TOC_rainbow'\n",
    "\n",
    "\n",
    "compute_gradient_details(palette_id, palette_definitions[palette_id])\n",
    "\n",
    "done_palette_entries.append(palette_id)"
   ]
  },
  {
   "cell_type": "code",
   "execution_count": 9,
   "metadata": {},
   "outputs": [
    {
     "name": "stdout",
     "output_type": "stream",
     "text": [
      "RR_HOUR_YlGrBu\n",
      "{'Clef recherche': '#REF!', 'Physical size': 'RR', 'Ref. period type': 'Hour', '': '', 'Function name': 13650, 'matplotlib name': 'YlGnBu_r', 'Min': '0', 'Max': '60', 'Levels': 20, 'Code': 'RR_HOUR_YlGrBu___10'}\n",
      "[0.0, 3.0, 6.0, 9.0, 12.0, 15.0, 18.0, 21.0, 24.0, 27.0, 30.0, 33.0, 36.0, 39.0, 42.0, 45.0, 48.0, 51.0, 54.0, 57.0, 60.0]\n",
      "['#081d58', '#142670', '#203089', '#243d98', '#234fa1', '#225ea8', '#2073b2', '#1e88bc', '#259ac1', '#34a9c3', '#42b6c4', '#5bc0c0', '#75c9bd', '#90d4b9', '#aedfb6', '#c8e9b4', '#d7efb3', '#e7f6b1', '#f1fabb', '#f9fdcb', '#ffffd9']\n"
     ]
    },
    {
     "data": {
      "image/png": "[encoded data removed]",
      "text/plain": [
       "<Figure size 1512x72 with 1 Axes>"
      ]
     },
     "metadata": {
      "needs_background": "light"
     },
     "output_type": "display_data"
    }
   ],
   "source": [
    "palette_id = 'RR_HOUR_YlGrBu'\n",
    "\n",
    "\n",
    "compute_gradient_details(palette_id, palette_definitions[palette_id])\n",
    "\n",
    "done_palette_entries.append(palette_id)"
   ]
  },
  {
   "cell_type": "code",
   "execution_count": 10,
   "metadata": {},
   "outputs": [
    {
     "name": "stdout",
     "output_type": "stream",
     "text": [
      "RROC_viridis\n",
      "{'Clef recherche': '#REF!', 'Physical size': 'RROC', 'Ref. period type': '', '': 0, 'Function name': '', 'matplotlib name': 'viridis', 'Min': 0, 'Max': 1, 'Levels': 20, 'Code': 'RROC__viridis_0_100_10'}\n",
      "[0.0, 0.05, 0.1, 0.15000000000000002, 0.2, 0.25, 0.30000000000000004, 0.35000000000000003, 0.4, 0.45, 0.5, 0.55, 0.6000000000000001, 0.65, 0.7000000000000001, 0.75, 0.8, 0.8500000000000001, 0.9, 0.9500000000000001, 1.0]\n",
      "['#440154', '#481467', '#482576', '#453581', '#404588', '#3b528b', '#34608d', '#2e6d8e', '#29798e', '#25858e', '#21918c', '#1e9d89', '#23a983', '#31b57b', '#46c06f', '#5ec962', '#7cd250', '#9dd93b', '#c0df25', '#e2e418', '#fde725']\n"
     ]
    },
    {
     "data": {
      "image/png": "[encoded data removed]",
      "text/plain": [
       "<Figure size 1512x72 with 1 Axes>"
      ]
     },
     "metadata": {
      "needs_background": "light"
     },
     "output_type": "display_data"
    }
   ],
   "source": [
    "palette_id = 'RROC_viridis'\n",
    "compute_gradient_details(palette_id, palette_definitions[palette_id])\n",
    "\n",
    "done_palette_entries.append(palette_id)"
   ]
  },
  {
   "cell_type": "code",
   "execution_count": 11,
   "metadata": {},
   "outputs": [
    {
     "name": "stdout",
     "output_type": "stream",
     "text": [
      "RR_DAY_YlGrBu\n",
      "{'Clef recherche': '#REF!', 'Physical size': 'RR', 'Ref. period type': 'Day', '': 'Group', 'Function name': '', 'matplotlib name': 'YlGnBu_r', 'Min': 0, 'Max': 80, 'Levels': 20, 'Code': 'RR_DAY_YlGrBu_0_80_10'}\n",
      "[0.0, 4.0, 8.0, 12.0, 16.0, 20.0, 24.0, 28.0, 32.0, 36.0, 40.0, 44.0, 48.0, 52.0, 56.0, 60.0, 64.0, 68.0, 72.0, 76.0, 80.0]\n",
      "['#081d58', '#142670', '#203089', '#243d98', '#234fa1', '#225ea8', '#2073b2', '#1e88bc', '#259ac1', '#34a9c3', '#42b6c4', '#5bc0c0', '#75c9bd', '#90d4b9', '#aedfb6', '#c8e9b4', '#d7efb3', '#e7f6b1', '#f1fabb', '#f9fdcb', '#ffffd9']\n"
     ]
    },
    {
     "data": {
      "image/png": "[encoded data removed]",
      "text/plain": [
       "<Figure size 1512x72 with 1 Axes>"
      ]
     },
     "metadata": {
      "needs_background": "light"
     },
     "output_type": "display_data"
    }
   ],
   "source": [
    "palette_id = 'RR_DAY_YlGrBu'\n",
    "\n",
    "compute_gradient_details(palette_id, palette_definitions[palette_id])\n",
    "\n",
    "done_palette_entries.append(palette_id)"
   ]
  },
  {
   "cell_type": "code",
   "execution_count": 12,
   "metadata": {},
   "outputs": [
    {
     "name": "stdout",
     "output_type": "stream",
     "text": [
      "RR_DECADE_YlGrBu\n",
      "{'Clef recherche': '#REF!', 'Physical size': 'RR', 'Ref. period type': 'Decade', '': 0, 'Function name': '', 'matplotlib name': 'YlGnBu_r', 'Min': 0, 'Max': 200, 'Levels': 20, 'Code': 'RR_DECADE_YlGrBu_0_200_10'}\n",
      "[0.0, 10.0, 20.0, 30.0, 40.0, 50.0, 60.0, 70.0, 80.0, 90.0, 100.0, 110.0, 120.0, 130.0, 140.0, 150.0, 160.0, 170.0, 180.0, 190.0, 200.0]\n",
      "['#081d58', '#142670', '#203089', '#243d98', '#234fa1', '#225ea8', '#2073b2', '#1e88bc', '#259ac1', '#34a9c3', '#42b6c4', '#5bc0c0', '#75c9bd', '#90d4b9', '#aedfb6', '#c8e9b4', '#d7efb3', '#e7f6b1', '#f1fabb', '#f9fdcb', '#ffffd9']\n"
     ]
    },
    {
     "data": {
      "image/png": "[encoded data removed]",
      "text/plain": [
       "<Figure size 1512x72 with 1 Axes>"
      ]
     },
     "metadata": {
      "needs_background": "light"
     },
     "output_type": "display_data"
    }
   ],
   "source": [
    "palette_id = 'RR_DECADE_YlGrBu'\n",
    "\n",
    "compute_gradient_details(palette_id, palette_definitions[palette_id])\n",
    "\n",
    "done_palette_entries.append(palette_id)"
   ]
  },
  {
   "cell_type": "code",
   "execution_count": 13,
   "metadata": {},
   "outputs": [
    {
     "name": "stdout",
     "output_type": "stream",
     "text": [
      "RR_MONTH_YlGrBu\n",
      "{'Clef recherche': '#REF!', 'Physical size': 'RR', 'Ref. period type': 'Month', '': 0, 'Function name': '', 'matplotlib name': 'YlGnBu_r', 'Min': 0, 'Max': 350, 'Levels': 20, 'Code': 'RR_MONTH_YlGrBu_0_350_10'}\n",
      "[0.0, 17.5, 35.0, 52.5, 70.0, 87.5, 105.0, 122.5, 140.0, 157.5, 175.0, 192.5, 210.0, 227.5, 245.0, 262.5, 280.0, 297.5, 315.0, 332.5, 350.0]\n",
      "['#081d58', '#142670', '#203089', '#243d98', '#234fa1', '#225ea8', '#2073b2', '#1e88bc', '#259ac1', '#34a9c3', '#42b6c4', '#5bc0c0', '#75c9bd', '#90d4b9', '#aedfb6', '#c8e9b4', '#d7efb3', '#e7f6b1', '#f1fabb', '#f9fdcb', '#ffffd9']\n"
     ]
    },
    {
     "data": {
      "image/png": "[encoded data removed]",
      "text/plain": [
       "<Figure size 1512x72 with 1 Axes>"
      ]
     },
     "metadata": {
      "needs_background": "light"
     },
     "output_type": "display_data"
    }
   ],
   "source": [
    "palette_id = 'RR_MONTH_YlGrBu'\n",
    "\n",
    "compute_gradient_details(palette_id, palette_definitions[palette_id])\n",
    "\n",
    "done_palette_entries.append(palette_id)"
   ]
  },
  {
   "cell_type": "code",
   "execution_count": 14,
   "metadata": {},
   "outputs": [
    {
     "name": "stdout",
     "output_type": "stream",
     "text": [
      "RR_YEAR_YlGrBu\n",
      "{'Clef recherche': '#REF!', 'Physical size': 'RR', 'Ref. period type': 'Year', '': 0, 'Function name': '', 'matplotlib name': 'YlGnBu_r', 'Min': '0', 'Max': '500', 'Levels': 20, 'Code': 'RR_YEAR_YlGrBu___10'}\n",
      "[0.0, 25.0, 50.0, 75.0, 100.0, 125.0, 150.0, 175.0, 200.0, 225.0, 250.0, 275.0, 300.0, 325.0, 350.0, 375.0, 400.0, 425.0, 450.0, 475.0, 500.0]\n",
      "['#081d58', '#142670', '#203089', '#243d98', '#234fa1', '#225ea8', '#2073b2', '#1e88bc', '#259ac1', '#34a9c3', '#42b6c4', '#5bc0c0', '#75c9bd', '#90d4b9', '#aedfb6', '#c8e9b4', '#d7efb3', '#e7f6b1', '#f1fabb', '#f9fdcb', '#ffffd9']\n"
     ]
    },
    {
     "data": {
      "image/png": "[encoded data removed]",
      "text/plain": [
       "<Figure size 1512x72 with 1 Axes>"
      ]
     },
     "metadata": {
      "needs_background": "light"
     },
     "output_type": "display_data"
    }
   ],
   "source": [
    "palette_id = 'RR_YEAR_YlGrBu'\n",
    "\n",
    "compute_gradient_details(palette_id, palette_definitions[palette_id])\n",
    "\n",
    "done_palette_entries.append(palette_id)"
   ]
  },
  {
   "cell_type": "code",
   "execution_count": 15,
   "metadata": {},
   "outputs": [
    {
     "name": "stdout",
     "output_type": "stream",
     "text": [
      "RR_DAY_coolwarm\n",
      "{'Clef recherche': '#REF!', 'Physical size': 'RR', 'Ref. period type': 'Day', '': 0, 'Function name': '', 'matplotlib name': 'coolwarm', 'Min': -1, 'Max': 1, 'Levels': 20, 'Code': 'RR_DAY_coolwarm_-100_100_10'}\n",
      "[-1.0, -0.9, -0.8, -0.7, -0.6, -0.5, -0.3999999999999999, -0.29999999999999993, -0.19999999999999996, -0.09999999999999998, 0.0, 0.10000000000000009, 0.20000000000000018, 0.30000000000000004, 0.40000000000000013, 0.5, 0.6000000000000001, 0.7000000000000002, 0.8, 0.9000000000000001, 1.0]\n",
      "['#3b4cc0', '#4a63d3', '#5a78e4', '#6b8df0', '#7da0f9', '#8db0fe', '#9fbfff', '#b1cbfc', '#c1d4f4', '#d1dae9', '#dddcdc', '#ead5c9', '#f2cab5', '#f7bca1', '#f7aa8c', '#f4987a', '#ed8366', '#e36b54', '#d55042', '#c43032', '#b40426']\n"
     ]
    },
    {
     "data": {
      "image/png": "[encoded data removed]",
      "text/plain": [
       "<Figure size 1512x72 with 1 Axes>"
      ]
     },
     "metadata": {
      "needs_background": "light"
     },
     "output_type": "display_data"
    }
   ],
   "source": [
    "palette_id = 'RR_DAY_coolwarm'\n",
    "\n",
    "compute_gradient_details(palette_id, palette_definitions[palette_id])\n",
    "\n",
    "done_palette_entries.append(palette_id)"
   ]
  },
  {
   "cell_type": "code",
   "execution_count": 16,
   "metadata": {},
   "outputs": [
    {
     "name": "stdout",
     "output_type": "stream",
     "text": [
      "RR_DECADE_coolwarm\n",
      "{'Clef recherche': '#REF!', 'Physical size': 'RR', 'Ref. period type': 'Decade', '': 0, 'Function name': '', 'matplotlib name': 'coolwarm', 'Min': -1, 'Max': 1, 'Levels': 20, 'Code': 'RR_DECADE_coolwarm_-100_100_10'}\n",
      "[-1.0, -0.9, -0.8, -0.7, -0.6, -0.5, -0.3999999999999999, -0.29999999999999993, -0.19999999999999996, -0.09999999999999998, 0.0, 0.10000000000000009, 0.20000000000000018, 0.30000000000000004, 0.40000000000000013, 0.5, 0.6000000000000001, 0.7000000000000002, 0.8, 0.9000000000000001, 1.0]\n",
      "['#3b4cc0', '#4a63d3', '#5a78e4', '#6b8df0', '#7da0f9', '#8db0fe', '#9fbfff', '#b1cbfc', '#c1d4f4', '#d1dae9', '#dddcdc', '#ead5c9', '#f2cab5', '#f7bca1', '#f7aa8c', '#f4987a', '#ed8366', '#e36b54', '#d55042', '#c43032', '#b40426']\n"
     ]
    },
    {
     "data": {
      "image/png": "[encoded data removed]",
      "text/plain": [
       "<Figure size 1512x72 with 1 Axes>"
      ]
     },
     "metadata": {
      "needs_background": "light"
     },
     "output_type": "display_data"
    }
   ],
   "source": [
    "palette_id = 'RR_DECADE_coolwarm'\n",
    "\n",
    "compute_gradient_details(palette_id, palette_definitions[palette_id])\n",
    "\n",
    "done_palette_entries.append(palette_id)"
   ]
  },
  {
   "cell_type": "code",
   "execution_count": 17,
   "metadata": {},
   "outputs": [
    {
     "name": "stdout",
     "output_type": "stream",
     "text": [
      "RR_MONTH_coolwarm\n",
      "{'Clef recherche': '#REF!', 'Physical size': 'RR', 'Ref. period type': 'Month', '': 0, 'Function name': '', 'matplotlib name': 'coolwarm', 'Min': -1, 'Max': 1, 'Levels': 20, 'Code': 'RR_MONTH_coolwarm_-100_100_10'}\n",
      "[-1.0, -0.9, -0.8, -0.7, -0.6, -0.5, -0.3999999999999999, -0.29999999999999993, -0.19999999999999996, -0.09999999999999998, 0.0, 0.10000000000000009, 0.20000000000000018, 0.30000000000000004, 0.40000000000000013, 0.5, 0.6000000000000001, 0.7000000000000002, 0.8, 0.9000000000000001, 1.0]\n",
      "['#3b4cc0', '#4a63d3', '#5a78e4', '#6b8df0', '#7da0f9', '#8db0fe', '#9fbfff', '#b1cbfc', '#c1d4f4', '#d1dae9', '#dddcdc', '#ead5c9', '#f2cab5', '#f7bca1', '#f7aa8c', '#f4987a', '#ed8366', '#e36b54', '#d55042', '#c43032', '#b40426']\n"
     ]
    },
    {
     "data": {
      "image/png": "[encoded data removed]",
      "text/plain": [
       "<Figure size 1512x72 with 1 Axes>"
      ]
     },
     "metadata": {
      "needs_background": "light"
     },
     "output_type": "display_data"
    }
   ],
   "source": [
    "palette_id = 'RR_MONTH_coolwarm'\n",
    "\n",
    "compute_gradient_details(palette_id, palette_definitions[palette_id])\n",
    "\n",
    "done_palette_entries.append(palette_id)"
   ]
  },
  {
   "cell_type": "code",
   "execution_count": 18,
   "metadata": {},
   "outputs": [
    {
     "name": "stdout",
     "output_type": "stream",
     "text": [
      "RR_MONTH_viridis\n",
      "{'Clef recherche': '#REF!', 'Physical size': 'RR', 'Ref. period type': 'Month', '': 0, 'Function name': '', 'matplotlib name': 'viridis', 'Min': -350, 'Max': 350, 'Levels': 20, 'Code': 'RR_MONTH_viridis_-350_350_10'}\n",
      "[-350.0, -315.0, -280.0, -245.0, -210.0, -175.0, -140.0, -105.0, -70.0, -35.0, 0.0, 35.0, 70.0, 105.0, 140.0, 175.0, 210.0, 245.0, 280.0, 315.0, 350.0]\n",
      "['#440154', '#481467', '#482576', '#453581', '#404588', '#3b528b', '#34608d', '#2e6d8e', '#29798e', '#25858e', '#21918c', '#1e9d89', '#23a983', '#31b57b', '#46c06f', '#5ec962', '#7cd250', '#9dd93b', '#c0df25', '#e2e418', '#fde725']\n"
     ]
    },
    {
     "data": {
      "image/png": "[encoded data removed]",
      "text/plain": [
       "<Figure size 1512x72 with 1 Axes>"
      ]
     },
     "metadata": {
      "needs_background": "light"
     },
     "output_type": "display_data"
    }
   ],
   "source": [
    "palette_id = 'RR_MONTH_viridis'\n",
    "\n",
    "compute_gradient_details(palette_id, palette_definitions[palette_id])\n",
    "\n",
    "done_palette_entries.append(palette_id)"
   ]
  },
  {
   "cell_type": "code",
   "execution_count": 19,
   "metadata": {},
   "outputs": [
    {
     "name": "stdout",
     "output_type": "stream",
     "text": [
      "RR_DAY_viridis\n",
      "{'Clef recherche': '#REF!', 'Physical size': 'RR', 'Ref. period type': 'Day', '': 0, 'Function name': '', 'matplotlib name': 'viridis', 'Min': -80, 'Max': 80, 'Levels': 20, 'Code': 'RR_DAY_viridis_-80_80_10'}\n",
      "[-80.0, -72.0, -64.0, -56.0, -48.0, -40.0, -32.0, -24.0, -16.0, -8.0, 0.0, 8.0, 16.0, 24.0, 32.0, 40.0, 48.0, 56.0, 64.0, 72.0, 80.0]\n",
      "['#440154', '#481467', '#482576', '#453581', '#404588', '#3b528b', '#34608d', '#2e6d8e', '#29798e', '#25858e', '#21918c', '#1e9d89', '#23a983', '#31b57b', '#46c06f', '#5ec962', '#7cd250', '#9dd93b', '#c0df25', '#e2e418', '#fde725']\n"
     ]
    },
    {
     "data": {
      "image/png": "[encoded data removed]",
      "text/plain": [
       "<Figure size 1512x72 with 1 Axes>"
      ]
     },
     "metadata": {
      "needs_background": "light"
     },
     "output_type": "display_data"
    }
   ],
   "source": [
    "palette_id = 'RR_DAY_viridis'\n",
    "\n",
    "compute_gradient_details(palette_id, palette_definitions[palette_id])\n",
    "\n",
    "done_palette_entries.append(palette_id)"
   ]
  },
  {
   "cell_type": "code",
   "execution_count": 20,
   "metadata": {},
   "outputs": [
    {
     "name": "stdout",
     "output_type": "stream",
     "text": [
      "RR_DECADE_viridis\n",
      "{'Clef recherche': '#REF!', 'Physical size': 'RR', 'Ref. period type': 'Decade', '': 0, 'Function name': '', 'matplotlib name': 'viridis', 'Min': -200, 'Max': 200, 'Levels': 20, 'Code': 'RR_DECADE_viridis_-200_200_10'}\n",
      "[-200.0, -180.0, -160.0, -140.0, -120.0, -100.0, -80.0, -60.0, -40.0, -20.0, 0.0, 20.0, 40.0, 60.0, 80.0, 100.0, 120.0, 140.0, 160.0, 180.0, 200.0]\n",
      "['#440154', '#481467', '#482576', '#453581', '#404588', '#3b528b', '#34608d', '#2e6d8e', '#29798e', '#25858e', '#21918c', '#1e9d89', '#23a983', '#31b57b', '#46c06f', '#5ec962', '#7cd250', '#9dd93b', '#c0df25', '#e2e418', '#fde725']\n"
     ]
    },
    {
     "data": {
      "image/png": "[encoded data removed]",
      "text/plain": [
       "<Figure size 1512x72 with 1 Axes>"
      ]
     },
     "metadata": {
      "needs_background": "light"
     },
     "output_type": "display_data"
    }
   ],
   "source": [
    "palette_id = 'RR_DECADE_viridis'\n",
    "\n",
    "compute_gradient_details(palette_id, palette_definitions[palette_id])\n",
    "\n",
    "done_palette_entries.append(palette_id)"
   ]
  },
  {
   "cell_type": "code",
   "execution_count": 21,
   "metadata": {},
   "outputs": [
    {
     "name": "stdout",
     "output_type": "stream",
     "text": [
      "RROC_coolwarm\n",
      "{'Clef recherche': '#REF!', 'Physical size': 'RROC', 'Ref. period type': '', '': 0, 'Function name': '', 'matplotlib name': 'coolwarm', 'Min': -1.0, 'Max': 1.0, 'Levels': 20, 'Code': 'RROC__coolwarm_-20_20_10'}\n",
      "[-1.0, -0.9, -0.8, -0.7, -0.6, -0.5, -0.3999999999999999, -0.29999999999999993, -0.19999999999999996, -0.09999999999999998, 0.0, 0.10000000000000009, 0.20000000000000018, 0.30000000000000004, 0.40000000000000013, 0.5, 0.6000000000000001, 0.7000000000000002, 0.8, 0.9000000000000001, 1.0]\n",
      "['#3b4cc0', '#4a63d3', '#5a78e4', '#6b8df0', '#7da0f9', '#8db0fe', '#9fbfff', '#b1cbfc', '#c1d4f4', '#d1dae9', '#dddcdc', '#ead5c9', '#f2cab5', '#f7bca1', '#f7aa8c', '#f4987a', '#ed8366', '#e36b54', '#d55042', '#c43032', '#b40426']\n"
     ]
    },
    {
     "data": {
      "image/png": "[encoded data removed]",
      "text/plain": [
       "<Figure size 1512x72 with 1 Axes>"
      ]
     },
     "metadata": {
      "needs_background": "light"
     },
     "output_type": "display_data"
    }
   ],
   "source": [
    "palette_id = 'RROC_coolwarm'\n",
    "\n",
    "compute_gradient_details(palette_id, palette_definitions[palette_id])\n",
    "\n",
    "done_palette_entries.append(palette_id)"
   ]
  },
  {
   "cell_type": "code",
   "execution_count": 22,
   "metadata": {},
   "outputs": [
    {
     "name": "stdout",
     "output_type": "stream",
     "text": [
      "TM_rainbow\n",
      "{'Clef recherche': '#REF!', 'Physical size': 'TM', 'Ref. period type': '', '': 0, 'Function name': '', 'matplotlib name': 'rainbow', 'Min': 10, 'Max': 35, 'Levels': 20, 'Code': 'TM__rainbow_10_35_10'}\n",
      "[10.0, 11.25, 12.5, 13.75, 15.0, 16.25, 17.5, 18.75, 20.0, 21.25, 22.5, 23.75, 25.0, 26.25, 27.5, 28.75, 30.0, 31.25, 32.5, 33.75, 35.0]\n",
      "['#8000ff', '#6629fe', '#4c50fc', '#3176f8', '#1898f2', '#00b5eb', '#1acfe3', '#34e4d9', '#4ef3cd', '#68fcc1', '#80ffb4', '#9bfba5', '#b4f295', '#cee184', '#e8cb72', '#ffb360', '#ff934d', '#ff703a', '#ff4a26', '#ff2211', '#ff0000']\n"
     ]
    },
    {
     "data": {
      "image/png": "[encoded data removed]",
      "text/plain": [
       "<Figure size 1512x72 with 1 Axes>"
      ]
     },
     "metadata": {
      "needs_background": "light"
     },
     "output_type": "display_data"
    }
   ],
   "source": [
    "palette_id = 'TM_rainbow'\n",
    "\n",
    "compute_gradient_details(palette_id, palette_definitions[palette_id])\n",
    "\n",
    "done_palette_entries.append(palette_id)"
   ]
  },
  {
   "cell_type": "code",
   "execution_count": 23,
   "metadata": {},
   "outputs": [
    {
     "name": "stdout",
     "output_type": "stream",
     "text": [
      "TX_rainbow\n",
      "{'Clef recherche': '#REF!', 'Physical size': 'TX', 'Ref. period type': '', '': 0, 'Function name': '', 'matplotlib name': 'rainbow', 'Min': 10, 'Max': 35, 'Levels': 20, 'Code': 'TX__rainbow_10_35_10'}\n",
      "[10.0, 11.25, 12.5, 13.75, 15.0, 16.25, 17.5, 18.75, 20.0, 21.25, 22.5, 23.75, 25.0, 26.25, 27.5, 28.75, 30.0, 31.25, 32.5, 33.75, 35.0]\n",
      "['#8000ff', '#6629fe', '#4c50fc', '#3176f8', '#1898f2', '#00b5eb', '#1acfe3', '#34e4d9', '#4ef3cd', '#68fcc1', '#80ffb4', '#9bfba5', '#b4f295', '#cee184', '#e8cb72', '#ffb360', '#ff934d', '#ff703a', '#ff4a26', '#ff2211', '#ff0000']\n"
     ]
    },
    {
     "data": {
      "image/png": "[encoded data removed]",
      "text/plain": [
       "<Figure size 1512x72 with 1 Axes>"
      ]
     },
     "metadata": {
      "needs_background": "light"
     },
     "output_type": "display_data"
    }
   ],
   "source": [
    "palette_id = 'TX_rainbow'\n",
    "\n",
    "compute_gradient_details(palette_id, palette_definitions[palette_id])\n",
    "\n",
    "done_palette_entries.append(palette_id)"
   ]
  },
  {
   "cell_type": "code",
   "execution_count": 24,
   "metadata": {},
   "outputs": [
    {
     "name": "stdout",
     "output_type": "stream",
     "text": [
      "TX_DAY_coolwarm\n",
      "{'Clef recherche': '#REF!', 'Physical size': 'TX', 'Ref. period type': 'Day', '': 0, 'Function name': '', 'matplotlib name': 'coolwarm', 'Min': -10, 'Max': 10, 'Levels': 20, 'Code': 'TX_DAY_coolwarm_-10_10_10'}\n",
      "[-10.0, -9.0, -8.0, -7.0, -6.0, -5.0, -4.0, -3.0, -2.0, -1.0, 0.0, 1.0, 2.0, 3.0, 4.0, 5.0, 6.0, 7.0, 8.0, 9.0, 10.0]\n",
      "['#3b4cc0', '#4a63d3', '#5a78e4', '#6b8df0', '#7da0f9', '#8db0fe', '#9fbfff', '#b1cbfc', '#c1d4f4', '#d1dae9', '#dddcdc', '#ead5c9', '#f2cab5', '#f7bca1', '#f7aa8c', '#f4987a', '#ed8366', '#e36b54', '#d55042', '#c43032', '#b40426']\n"
     ]
    },
    {
     "data": {
      "image/png": "[encoded data removed]",
      "text/plain": [
       "<Figure size 1512x72 with 1 Axes>"
      ]
     },
     "metadata": {
      "needs_background": "light"
     },
     "output_type": "display_data"
    }
   ],
   "source": [
    "palette_id = 'TX_DAY_coolwarm'\n",
    "\n",
    "compute_gradient_details(palette_id, palette_definitions[palette_id])\n",
    "\n",
    "done_palette_entries.append(palette_id)"
   ]
  },
  {
   "cell_type": "code",
   "execution_count": 25,
   "metadata": {},
   "outputs": [
    {
     "name": "stdout",
     "output_type": "stream",
     "text": [
      "TX_DECADE_coolwarm\n",
      "{'Clef recherche': '#REF!', 'Physical size': 'TX', 'Ref. period type': 'Decade', '': 0, 'Function name': '', 'matplotlib name': 'coolwarm', 'Min': -5, 'Max': 5, 'Levels': 20, 'Code': 'TX_DECADE_coolwarm_-5_5_10'}\n",
      "[-5.0, -4.5, -4.0, -3.5, -3.0, -2.5, -2.0, -1.5, -1.0, -0.5, 0.0, 0.5, 1.0, 1.5, 2.0, 2.5, 3.0, 3.5, 4.0, 4.5, 5.0]\n",
      "['#3b4cc0', '#4a63d3', '#5a78e4', '#6b8df0', '#7da0f9', '#8db0fe', '#9fbfff', '#b1cbfc', '#c1d4f4', '#d1dae9', '#dddcdc', '#ead5c9', '#f2cab5', '#f7bca1', '#f7aa8c', '#f4987a', '#ed8366', '#e36b54', '#d55042', '#c43032', '#b40426']\n"
     ]
    },
    {
     "data": {
      "image/png": "[encoded data removed]",
      "text/plain": [
       "<Figure size 1512x72 with 1 Axes>"
      ]
     },
     "metadata": {
      "needs_background": "light"
     },
     "output_type": "display_data"
    }
   ],
   "source": [
    "palette_id = 'TX_DECADE_coolwarm'\n",
    "\n",
    "compute_gradient_details(palette_id, palette_definitions[palette_id])\n",
    "\n",
    "done_palette_entries.append(palette_id)"
   ]
  },
  {
   "cell_type": "code",
   "execution_count": 26,
   "metadata": {},
   "outputs": [
    {
     "name": "stdout",
     "output_type": "stream",
     "text": [
      "TX_MONTH_coolwarm\n",
      "{'Clef recherche': '#REF!', 'Physical size': 'TX', 'Ref. period type': 'Month', '': 0, 'Function name': '', 'matplotlib name': 'coolwarm', 'Min': -2, 'Max': 2, 'Levels': 20, 'Code': 'TX_MONTH_coolwarm_-2_2_10'}\n",
      "[-2.0, -1.8, -1.6, -1.4, -1.2, -1.0, -0.7999999999999998, -0.5999999999999999, -0.3999999999999999, -0.19999999999999996, 0.0, 0.20000000000000018, 0.40000000000000036, 0.6000000000000001, 0.8000000000000003, 1.0, 1.2000000000000002, 1.4000000000000004, 1.6, 1.8000000000000003, 2.0]\n",
      "['#3b4cc0', '#4a63d3', '#5a78e4', '#6b8df0', '#7da0f9', '#8db0fe', '#9fbfff', '#b1cbfc', '#c1d4f4', '#d1dae9', '#dddcdc', '#ead5c9', '#f2cab5', '#f7bca1', '#f7aa8c', '#f4987a', '#ed8366', '#e36b54', '#d55042', '#c43032', '#b40426']\n"
     ]
    },
    {
     "data": {
      "image/png": "[encoded data removed]",
      "text/plain": [
       "<Figure size 1512x72 with 1 Axes>"
      ]
     },
     "metadata": {
      "needs_background": "light"
     },
     "output_type": "display_data"
    }
   ],
   "source": [
    "palette_id = 'TX_MONTH_coolwarm'\n",
    "\n",
    "compute_gradient_details(palette_id, palette_definitions[palette_id])\n",
    "\n",
    "done_palette_entries.append(palette_id)"
   ]
  },
  {
   "cell_type": "code",
   "execution_count": 27,
   "metadata": {},
   "outputs": [
    {
     "name": "stdout",
     "output_type": "stream",
     "text": [
      "TM_DAY_coolwarm\n",
      "{'Clef recherche': '#REF!', 'Physical size': 'TM', 'Ref. period type': 'Day', '': 0, 'Function name': '', 'matplotlib name': 'coolwarm', 'Min': -10, 'Max': 10, 'Levels': 20, 'Code': 'TM_DAY_coolwarm_-10_10_10'}\n",
      "[-10.0, -9.0, -8.0, -7.0, -6.0, -5.0, -4.0, -3.0, -2.0, -1.0, 0.0, 1.0, 2.0, 3.0, 4.0, 5.0, 6.0, 7.0, 8.0, 9.0, 10.0]\n",
      "['#3b4cc0', '#4a63d3', '#5a78e4', '#6b8df0', '#7da0f9', '#8db0fe', '#9fbfff', '#b1cbfc', '#c1d4f4', '#d1dae9', '#dddcdc', '#ead5c9', '#f2cab5', '#f7bca1', '#f7aa8c', '#f4987a', '#ed8366', '#e36b54', '#d55042', '#c43032', '#b40426']\n"
     ]
    },
    {
     "data": {
      "image/png": "[encoded data removed]",
      "text/plain": [
       "<Figure size 1512x72 with 1 Axes>"
      ]
     },
     "metadata": {
      "needs_background": "light"
     },
     "output_type": "display_data"
    }
   ],
   "source": [
    "palette_id = 'TM_DAY_coolwarm'\n",
    "\n",
    "compute_gradient_details(palette_id, palette_definitions[palette_id])\n",
    "\n",
    "done_palette_entries.append(palette_id)"
   ]
  },
  {
   "cell_type": "code",
   "execution_count": 28,
   "metadata": {},
   "outputs": [
    {
     "name": "stdout",
     "output_type": "stream",
     "text": [
      "TM_DECADE_coolwarm\n",
      "{'Clef recherche': '#REF!', 'Physical size': 'TM', 'Ref. period type': 'Decade', '': 0, 'Function name': '', 'matplotlib name': 'coolwarm', 'Min': -5, 'Max': 5, 'Levels': 20, 'Code': 'TM_DECADE_coolwarm_-5_5_10'}\n",
      "[-5.0, -4.5, -4.0, -3.5, -3.0, -2.5, -2.0, -1.5, -1.0, -0.5, 0.0, 0.5, 1.0, 1.5, 2.0, 2.5, 3.0, 3.5, 4.0, 4.5, 5.0]\n",
      "['#3b4cc0', '#4a63d3', '#5a78e4', '#6b8df0', '#7da0f9', '#8db0fe', '#9fbfff', '#b1cbfc', '#c1d4f4', '#d1dae9', '#dddcdc', '#ead5c9', '#f2cab5', '#f7bca1', '#f7aa8c', '#f4987a', '#ed8366', '#e36b54', '#d55042', '#c43032', '#b40426']\n"
     ]
    },
    {
     "data": {
      "image/png": "[encoded data removed]",
      "text/plain": [
       "<Figure size 1512x72 with 1 Axes>"
      ]
     },
     "metadata": {
      "needs_background": "light"
     },
     "output_type": "display_data"
    }
   ],
   "source": [
    "palette_id = 'TM_DECADE_coolwarm'\n",
    "\n",
    "compute_gradient_details(palette_id, palette_definitions[palette_id])\n",
    "\n",
    "done_palette_entries.append(palette_id)"
   ]
  },
  {
   "cell_type": "code",
   "execution_count": 29,
   "metadata": {},
   "outputs": [
    {
     "name": "stdout",
     "output_type": "stream",
     "text": [
      "TM_MONTH_coolwarm\n",
      "{'Clef recherche': '#REF!', 'Physical size': 'TM', 'Ref. period type': 'Month', '': 0, 'Function name': '', 'matplotlib name': 'coolwarm', 'Min': -2, 'Max': 2, 'Levels': 20, 'Code': 'TM_MONTH_coolwarm_-2_2_10'}\n",
      "[-2.0, -1.8, -1.6, -1.4, -1.2, -1.0, -0.7999999999999998, -0.5999999999999999, -0.3999999999999999, -0.19999999999999996, 0.0, 0.20000000000000018, 0.40000000000000036, 0.6000000000000001, 0.8000000000000003, 1.0, 1.2000000000000002, 1.4000000000000004, 1.6, 1.8000000000000003, 2.0]\n",
      "['#3b4cc0', '#4a63d3', '#5a78e4', '#6b8df0', '#7da0f9', '#8db0fe', '#9fbfff', '#b1cbfc', '#c1d4f4', '#d1dae9', '#dddcdc', '#ead5c9', '#f2cab5', '#f7bca1', '#f7aa8c', '#f4987a', '#ed8366', '#e36b54', '#d55042', '#c43032', '#b40426']\n"
     ]
    },
    {
     "data": {
      "image/png": "[encoded data removed]",
      "text/plain": [
       "<Figure size 1512x72 with 1 Axes>"
      ]
     },
     "metadata": {
      "needs_background": "light"
     },
     "output_type": "display_data"
    }
   ],
   "source": [
    "palette_id = 'TM_MONTH_coolwarm'\n",
    "\n",
    "compute_gradient_details(palette_id, palette_definitions[palette_id])\n",
    "\n",
    "done_palette_entries.append(palette_id)"
   ]
  },
  {
   "cell_type": "code",
   "execution_count": 30,
   "metadata": {},
   "outputs": [
    {
     "name": "stdout",
     "output_type": "stream",
     "text": [
      "TN_rainbow\n",
      "{'Clef recherche': '#REF!', 'Physical size': 'TN', 'Ref. period type': '', '': 0, 'Function name': '', 'matplotlib name': 'rainbow', 'Min': 10, 'Max': 35, 'Levels': 20, 'Code': 'TN__rainbow_10_35_10'}\n",
      "[10.0, 11.25, 12.5, 13.75, 15.0, 16.25, 17.5, 18.75, 20.0, 21.25, 22.5, 23.75, 25.0, 26.25, 27.5, 28.75, 30.0, 31.25, 32.5, 33.75, 35.0]\n",
      "['#8000ff', '#6629fe', '#4c50fc', '#3176f8', '#1898f2', '#00b5eb', '#1acfe3', '#34e4d9', '#4ef3cd', '#68fcc1', '#80ffb4', '#9bfba5', '#b4f295', '#cee184', '#e8cb72', '#ffb360', '#ff934d', '#ff703a', '#ff4a26', '#ff2211', '#ff0000']\n"
     ]
    },
    {
     "data": {
      "image/png": "[encoded data removed]",
      "text/plain": [
       "<Figure size 1512x72 with 1 Axes>"
      ]
     },
     "metadata": {
      "needs_background": "light"
     },
     "output_type": "display_data"
    }
   ],
   "source": [
    "palette_id = 'TN_rainbow'\n",
    "\n",
    "compute_gradient_details(palette_id, palette_definitions[palette_id])\n",
    "\n",
    "done_palette_entries.append(palette_id)"
   ]
  },
  {
   "cell_type": "code",
   "execution_count": 31,
   "metadata": {},
   "outputs": [
    {
     "name": "stdout",
     "output_type": "stream",
     "text": [
      "TN_DAY_coolwarm\n",
      "{'Clef recherche': '#REF!', 'Physical size': 'TN', 'Ref. period type': 'Day', '': 0, 'Function name': '', 'matplotlib name': 'coolwarm', 'Min': -10, 'Max': 10, 'Levels': 20, 'Code': 'TN_DAY_coolwarm_-10_10_10'}\n",
      "[-10.0, -9.0, -8.0, -7.0, -6.0, -5.0, -4.0, -3.0, -2.0, -1.0, 0.0, 1.0, 2.0, 3.0, 4.0, 5.0, 6.0, 7.0, 8.0, 9.0, 10.0]\n",
      "['#3b4cc0', '#4a63d3', '#5a78e4', '#6b8df0', '#7da0f9', '#8db0fe', '#9fbfff', '#b1cbfc', '#c1d4f4', '#d1dae9', '#dddcdc', '#ead5c9', '#f2cab5', '#f7bca1', '#f7aa8c', '#f4987a', '#ed8366', '#e36b54', '#d55042', '#c43032', '#b40426']\n"
     ]
    },
    {
     "data": {
      "image/png": "[encoded data removed]",
      "text/plain": [
       "<Figure size 1512x72 with 1 Axes>"
      ]
     },
     "metadata": {
      "needs_background": "light"
     },
     "output_type": "display_data"
    }
   ],
   "source": [
    "palette_id = 'TN_DAY_coolwarm'\n",
    "\n",
    "compute_gradient_details(palette_id, palette_definitions[palette_id])\n",
    "\n",
    "done_palette_entries.append(palette_id)"
   ]
  },
  {
   "cell_type": "code",
   "execution_count": 32,
   "metadata": {},
   "outputs": [
    {
     "name": "stdout",
     "output_type": "stream",
     "text": [
      "TN_DECADE_coolwarm\n",
      "{'Clef recherche': '#REF!', 'Physical size': 'TN', 'Ref. period type': 'Decade', '': 0, 'Function name': '', 'matplotlib name': 'coolwarm', 'Min': -5, 'Max': 5, 'Levels': 20, 'Code': 'TN_DECADE_coolwarm_-5_5_10'}\n",
      "[-5.0, -4.5, -4.0, -3.5, -3.0, -2.5, -2.0, -1.5, -1.0, -0.5, 0.0, 0.5, 1.0, 1.5, 2.0, 2.5, 3.0, 3.5, 4.0, 4.5, 5.0]\n",
      "['#3b4cc0', '#4a63d3', '#5a78e4', '#6b8df0', '#7da0f9', '#8db0fe', '#9fbfff', '#b1cbfc', '#c1d4f4', '#d1dae9', '#dddcdc', '#ead5c9', '#f2cab5', '#f7bca1', '#f7aa8c', '#f4987a', '#ed8366', '#e36b54', '#d55042', '#c43032', '#b40426']\n"
     ]
    },
    {
     "data": {
      "image/png": "[encoded data removed]",
      "text/plain": [
       "<Figure size 1512x72 with 1 Axes>"
      ]
     },
     "metadata": {
      "needs_background": "light"
     },
     "output_type": "display_data"
    }
   ],
   "source": [
    "palette_id = 'TN_DECADE_coolwarm'\n",
    "\n",
    "compute_gradient_details(palette_id, palette_definitions[palette_id])\n",
    "\n",
    "done_palette_entries.append(palette_id)"
   ]
  },
  {
   "cell_type": "code",
   "execution_count": 33,
   "metadata": {},
   "outputs": [
    {
     "name": "stdout",
     "output_type": "stream",
     "text": [
      "TN_MONTH_coolwarm\n",
      "{'Clef recherche': '#REF!', 'Physical size': 'TN', 'Ref. period type': 'Month', '': 0, 'Function name': '', 'matplotlib name': 'coolwarm', 'Min': -2, 'Max': 2, 'Levels': 20, 'Code': 'TN_MONTH_coolwarm_-2_2_10'}\n",
      "[-2.0, -1.8, -1.6, -1.4, -1.2, -1.0, -0.7999999999999998, -0.5999999999999999, -0.3999999999999999, -0.19999999999999996, 0.0, 0.20000000000000018, 0.40000000000000036, 0.6000000000000001, 0.8000000000000003, 1.0, 1.2000000000000002, 1.4000000000000004, 1.6, 1.8000000000000003, 2.0]\n",
      "['#3b4cc0', '#4a63d3', '#5a78e4', '#6b8df0', '#7da0f9', '#8db0fe', '#9fbfff', '#b1cbfc', '#c1d4f4', '#d1dae9', '#dddcdc', '#ead5c9', '#f2cab5', '#f7bca1', '#f7aa8c', '#f4987a', '#ed8366', '#e36b54', '#d55042', '#c43032', '#b40426']\n"
     ]
    },
    {
     "data": {
      "image/png": "[encoded data removed]",
      "text/plain": [
       "<Figure size 1512x72 with 1 Axes>"
      ]
     },
     "metadata": {
      "needs_background": "light"
     },
     "output_type": "display_data"
    }
   ],
   "source": [
    "palette_id = 'TN_MONTH_coolwarm'\n",
    "\n",
    "compute_gradient_details(palette_id, palette_definitions[palette_id])\n",
    "\n",
    "done_palette_entries.append(palette_id)"
   ]
  },
  {
   "cell_type": "code",
   "execution_count": 34,
   "metadata": {},
   "outputs": [
    {
     "name": "stdout",
     "output_type": "stream",
     "text": [
      "TOC_coolwarm\n",
      "{'Clef recherche': '#REF!', 'Physical size': 'TOC', 'Ref. period type': '', '': 0, 'Function name': '', 'matplotlib name': 'coolwarm', 'Min': -100, 'Max': 100, 'Levels': 20, 'Code': 'TOC__coolwarm_-20_20_10'}\n",
      "[-100.0, -90.0, -80.0, -70.0, -60.0, -50.0, -40.0, -30.0, -20.0, -10.0, 0.0, 10.0, 20.0, 30.0, 40.0, 50.0, 60.0, 70.0, 80.0, 90.0, 100.0]\n",
      "['#3b4cc0', '#4a63d3', '#5a78e4', '#6b8df0', '#7da0f9', '#8db0fe', '#9fbfff', '#b1cbfc', '#c1d4f4', '#d1dae9', '#dddcdc', '#ead5c9', '#f2cab5', '#f7bca1', '#f7aa8c', '#f4987a', '#ed8366', '#e36b54', '#d55042', '#c43032', '#b40426']\n"
     ]
    },
    {
     "data": {
      "image/png": "[encoded data removed]",
      "text/plain": [
       "<Figure size 1512x72 with 1 Axes>"
      ]
     },
     "metadata": {
      "needs_background": "light"
     },
     "output_type": "display_data"
    }
   ],
   "source": [
    "palette_id = 'TOC_coolwarm'\n",
    "\n",
    "compute_gradient_details(palette_id, palette_definitions[palette_id])\n",
    "\n",
    "done_palette_entries.append(palette_id)"
   ]
  },
  {
   "cell_type": "code",
   "execution_count": 35,
   "metadata": {},
   "outputs": [
    {
     "name": "stdout",
     "output_type": "stream",
     "text": [
      "TXN_rainbow\n",
      "{'Clef recherche': '#REF!', 'Physical size': 'TXN', 'Ref. period type': '', '': 0, 'Function name': '', 'matplotlib name': 'rainbow', 'Min': 18, 'Max': 25, 'Levels': 20, 'Code': 'TXN__rainbow_18_25_10'}\n",
      "[18.0, 18.35, 18.7, 19.05, 19.4, 19.75, 20.1, 20.45, 20.8, 21.15, 21.5, 21.85, 22.2, 22.55, 22.9, 23.25, 23.6, 23.95, 24.3, 24.65, 25.0]\n",
      "['#8000ff', '#6629fe', '#4c50fc', '#3176f8', '#1898f2', '#00b5eb', '#1acfe3', '#34e4d9', '#4ef3cd', '#68fcc1', '#80ffb4', '#9bfba5', '#b4f295', '#cee184', '#e8cb72', '#ffb360', '#ff934d', '#ff703a', '#ff4a26', '#ff2211', '#ff0000']\n"
     ]
    },
    {
     "data": {
      "image/png": "[encoded data removed]",
      "text/plain": [
       "<Figure size 1512x72 with 1 Axes>"
      ]
     },
     "metadata": {
      "needs_background": "light"
     },
     "output_type": "display_data"
    }
   ],
   "source": [
    "palette_id = 'TXN_rainbow'\n",
    "\n",
    "compute_gradient_details(palette_id, palette_definitions[palette_id])\n",
    "\n",
    "done_palette_entries.append(palette_id)"
   ]
  },
  {
   "cell_type": "code",
   "execution_count": 36,
   "metadata": {},
   "outputs": [
    {
     "name": "stdout",
     "output_type": "stream",
     "text": [
      "TXX_rainbow\n",
      "{'Clef recherche': '#REF!', 'Physical size': 'TXX', 'Ref. period type': '', '': 0, 'Function name': '', 'matplotlib name': 'rainbow', 'Min': 24, 'Max': 38, 'Levels': 20, 'Code': 'TXX__rainbow_24_38_10'}\n",
      "[24.0, 24.7, 25.4, 26.1, 26.8, 27.5, 28.2, 28.9, 29.6, 30.3, 31.0, 31.7, 32.4, 33.1, 33.8, 34.5, 35.2, 35.9, 36.6, 37.3, 38.0]\n",
      "['#8000ff', '#6629fe', '#4c50fc', '#3176f8', '#1898f2', '#00b5eb', '#1acfe3', '#34e4d9', '#4ef3cd', '#68fcc1', '#80ffb4', '#9bfba5', '#b4f295', '#cee184', '#e8cb72', '#ffb360', '#ff934d', '#ff703a', '#ff4a26', '#ff2211', '#ff0000']\n"
     ]
    },
    {
     "data": {
      "image/png": "[encoded data removed]",
      "text/plain": [
       "<Figure size 1512x72 with 1 Axes>"
      ]
     },
     "metadata": {
      "needs_background": "light"
     },
     "output_type": "display_data"
    }
   ],
   "source": [
    "palette_id = 'TXX_rainbow'\n",
    "\n",
    "compute_gradient_details(palette_id, palette_definitions[palette_id])\n",
    "\n",
    "done_palette_entries.append(palette_id)"
   ]
  },
  {
   "cell_type": "code",
   "execution_count": 37,
   "metadata": {},
   "outputs": [
    {
     "name": "stdout",
     "output_type": "stream",
     "text": [
      "TNN_rainbow\n",
      "{'Clef recherche': '#REF!', 'Physical size': 'TNN', 'Ref. period type': '', '': 0, 'Function name': '', 'matplotlib name': 'rainbow', 'Min': 7, 'Max': 17, 'Levels': 20, 'Code': 'TNN__rainbow_7_17_10'}\n",
      "[7.0, 7.5, 8.0, 8.5, 9.0, 9.5, 10.0, 10.5, 11.0, 11.5, 12.0, 12.5, 13.0, 13.5, 14.0, 14.5, 15.0, 15.5, 16.0, 16.5, 17.0]\n",
      "['#8000ff', '#6629fe', '#4c50fc', '#3176f8', '#1898f2', '#00b5eb', '#1acfe3', '#34e4d9', '#4ef3cd', '#68fcc1', '#80ffb4', '#9bfba5', '#b4f295', '#cee184', '#e8cb72', '#ffb360', '#ff934d', '#ff703a', '#ff4a26', '#ff2211', '#ff0000']\n"
     ]
    },
    {
     "data": {
      "image/png": "[encoded data removed]",
      "text/plain": [
       "<Figure size 1512x72 with 1 Axes>"
      ]
     },
     "metadata": {
      "needs_background": "light"
     },
     "output_type": "display_data"
    }
   ],
   "source": [
    "palette_id = 'TNN_rainbow'\n",
    "\n",
    "compute_gradient_details(palette_id, palette_definitions[palette_id])\n",
    "\n",
    "done_palette_entries.append(palette_id)"
   ]
  },
  {
   "cell_type": "code",
   "execution_count": 38,
   "metadata": {},
   "outputs": [
    {
     "name": "stdout",
     "output_type": "stream",
     "text": [
      "TNX_rainbow\n",
      "{'Clef recherche': '#REF!', 'Physical size': 'TNX', 'Ref. period type': '', '': 0, 'Function name': '', 'matplotlib name': 'rainbow', 'Min': 14, 'Max': 24, 'Levels': 20, 'Code': 'TNX__rainbow_14_24_10'}\n",
      "[14.0, 14.5, 15.0, 15.5, 16.0, 16.5, 17.0, 17.5, 18.0, 18.5, 19.0, 19.5, 20.0, 20.5, 21.0, 21.5, 22.0, 22.5, 23.0, 23.5, 24.0]\n",
      "['#8000ff', '#6629fe', '#4c50fc', '#3176f8', '#1898f2', '#00b5eb', '#1acfe3', '#34e4d9', '#4ef3cd', '#68fcc1', '#80ffb4', '#9bfba5', '#b4f295', '#cee184', '#e8cb72', '#ffb360', '#ff934d', '#ff703a', '#ff4a26', '#ff2211', '#ff0000']\n"
     ]
    },
    {
     "data": {
      "image/png": "[encoded data removed]",
      "text/plain": [
       "<Figure size 1512x72 with 1 Axes>"
      ]
     },
     "metadata": {
      "needs_background": "light"
     },
     "output_type": "display_data"
    }
   ],
   "source": [
    "palette_id = 'TNX_rainbow'\n",
    "\n",
    "compute_gradient_details(palette_id, palette_definitions[palette_id])\n",
    "\n",
    "done_palette_entries.append(palette_id)"
   ]
  },
  {
   "cell_type": "code",
   "execution_count": 39,
   "metadata": {},
   "outputs": [
    {
     "name": "stdout",
     "output_type": "stream",
     "text": [
      "TNM_rainbow\n",
      "{'Clef recherche': '#REF!', 'Physical size': 'TNM', 'Ref. period type': '', '': 0, 'Function name': '', 'matplotlib name': 'rainbow', 'Min': 7, 'Max': 33, 'Levels': 20, 'Code': 'TNM__rainbow_7_33_10'}\n",
      "[7.0, 8.3, 9.6, 10.9, 12.2, 13.5, 14.8, 16.1, 17.4, 18.700000000000003, 20.0, 21.3, 22.6, 23.900000000000002, 25.2, 26.5, 27.8, 29.1, 30.400000000000002, 31.7, 33.0]\n",
      "['#8000ff', '#6629fe', '#4c50fc', '#3176f8', '#1898f2', '#00b5eb', '#1acfe3', '#34e4d9', '#4ef3cd', '#68fcc1', '#80ffb4', '#9bfba5', '#b4f295', '#cee184', '#e8cb72', '#ffb360', '#ff934d', '#ff703a', '#ff4a26', '#ff2211', '#ff0000']\n"
     ]
    },
    {
     "data": {
      "image/png": "[encoded data removed]",
      "text/plain": [
       "<Figure size 1512x72 with 1 Axes>"
      ]
     },
     "metadata": {
      "needs_background": "light"
     },
     "output_type": "display_data"
    }
   ],
   "source": [
    "palette_id = 'TNM_rainbow'\n",
    "\n",
    "compute_gradient_details(palette_id, palette_definitions[palette_id])\n",
    "\n",
    "done_palette_entries.append(palette_id)"
   ]
  },
  {
   "cell_type": "code",
   "execution_count": 40,
   "metadata": {},
   "outputs": [
    {
     "name": "stdout",
     "output_type": "stream",
     "text": [
      "TXM_rainbow\n",
      "{'Clef recherche': '#REF!', 'Physical size': 'TXM', 'Ref. period type': '', '': 0, 'Function name': '', 'matplotlib name': 'rainbow', 'Min': 14, 'Max': 38, 'Levels': 20, 'Code': 'TXM__rainbow_14_38_10'}\n",
      "[14.0, 15.2, 16.4, 17.6, 18.8, 20.0, 21.2, 22.4, 23.6, 24.799999999999997, 26.0, 27.2, 28.4, 29.6, 30.8, 32.0, 33.2, 34.4, 35.599999999999994, 36.8, 38.0]\n",
      "['#8000ff', '#6629fe', '#4c50fc', '#3176f8', '#1898f2', '#00b5eb', '#1acfe3', '#34e4d9', '#4ef3cd', '#68fcc1', '#80ffb4', '#9bfba5', '#b4f295', '#cee184', '#e8cb72', '#ffb360', '#ff934d', '#ff703a', '#ff4a26', '#ff2211', '#ff0000']\n"
     ]
    },
    {
     "data": {
      "image/png": "[encoded data removed]",
      "text/plain": [
       "<Figure size 1512x72 with 1 Axes>"
      ]
     },
     "metadata": {
      "needs_background": "light"
     },
     "output_type": "display_data"
    }
   ],
   "source": [
    "palette_id = 'TXM_rainbow'\n",
    "\n",
    "compute_gradient_details(palette_id, palette_definitions[palette_id])\n",
    "\n",
    "done_palette_entries.append(palette_id)"
   ]
  },
  {
   "cell_type": "code",
   "execution_count": 41,
   "metadata": {},
   "outputs": [
    {
     "name": "stdout",
     "output_type": "stream",
     "text": [
      "TMM_rainbow\n",
      "{'Clef recherche': '#REF!', 'Physical size': 'TMM', 'Ref. period type': '', '': 0, 'Function name': '', 'matplotlib name': 'rainbow', 'Min': 10, 'Max': 35, 'Levels': 25, 'Code': 'TMM__rainbow_10_35_10'}\n",
      "[10.0, 11.0, 12.0, 13.0, 14.0, 15.0, 16.0, 17.0, 18.0, 19.0, 20.0, 21.0, 22.0, 23.0, 24.0, 25.0, 26.0, 27.0, 28.0, 29.0, 30.0, 31.0, 32.0, 33.0, 34.0, 35.0]\n",
      "['#8000ff', '#6a22fe', '#5641fd', '#425ffa', '#2e7bf7', '#1898f2', '#04b0ed', '#10c6e6', '#24d8df', '#3ae8d6', '#4ef3cd', '#62fbc4', '#76ffb9', '#8cfead', '#a0faa1', '#b4f295', '#c8e688', '#ded579', '#f2c26b', '#ffac5c', '#ff934d', '#ff763d', '#ff592d', '#ff3b1e', '#ff1c0e', '#ff0000']\n"
     ]
    },
    {
     "data": {
      "image/png": "[encoded data removed]",
      "text/plain": [
       "<Figure size 1872x72 with 1 Axes>"
      ]
     },
     "metadata": {
      "needs_background": "light"
     },
     "output_type": "display_data"
    }
   ],
   "source": [
    "palette_id = 'TMM_rainbow'\n",
    "\n",
    "compute_gradient_details(palette_id, palette_definitions[palette_id])\n",
    "\n",
    "done_palette_entries.append(palette_id)"
   ]
  },
  {
   "cell_type": "code",
   "execution_count": 42,
   "metadata": {},
   "outputs": [],
   "source": [
    "for code, detail in palette_definitions.items():\n",
    "    if not detail['Min'] or not detail['Max']:\n",
    "        continue\n",
    "    if not code in done_palette_entries:\n",
    "        print(code)"
   ]
  },
  {
   "cell_type": "code",
   "execution_count": 15,
   "metadata": {},
   "outputs": [
    {
     "name": "stdout",
     "output_type": "stream",
     "text": [
      " netcdf_type = 'geomatrix'\n",
      " netcdf_filename = 'data_samples\\resampled\\2022\\RR\\RR_MONTHLY_VALUES.nc'\n",
      " netcdf_value_variable = 'RR_MONTHLY_VALUES'\n",
      " netcdf_dimension_setting = '['time:0', 'RR_MONTHLY_VALUES:0']'\n",
      " netcdf_dimension_setting_method = 'index'\n",
      " netcdf_latitude_variable = 'latitude'\n",
      " netcdf_longitude_variable = 'longitude'\n",
      "\n"
     ]
    }
   ],
   "source": [
    "from Magics import macro\n",
    "from Magics.macro import *\n",
    "\n",
    "\n",
    "\n",
    "x = macro.output(output_formats=[\"png\"],\n",
    "                          output_name_first_page_number='off',\n",
    "                          output_name=\"x\")\n",
    "macro.plot(x, macro.mcoast())\n",
    "\n",
    "\n",
    "style = {\n",
    "    \"contour\": \"off\",\n",
    "    \"contour_shade\": \"on\",\n",
    "    \"contour_level_selection_type\": \"list\",\n",
    "    \"contour_level_list\": [0.0,1.0,5.0,10.0,25.0],\n",
    "    # \"contour_interpolation_floor\": 0.00,\n",
    "    # \"contour_interpolation_ceiling\": 100.00,\n",
    "    \"contour_shade_method\": \"area_fill\",\n",
    "    \"contour_shade_colour_method\": \"list\",\n",
    "    \"contour_shade_colour_list\": ['#7dcea0', '#f9e79f', '#3498db'],\n",
    "    #\"contour_description\": \"Index for suitability application\",\n",
    "    #\"contour_title\": \"Rainfall risk\"\n",
    "\n",
    "}\n",
    "\n",
    "\n",
    "file = 'data_samples\\\\resampled\\\\2022\\\\RR\\\\RR_MONTHLY_VALUES.nc'\n",
    "# file = 'data/2086204_dew2m_20200101.nc'\n",
    "out = output(\n",
    "    output_formats=['png'],\n",
    "    output_name_first_page_number=\"off\",\n",
    "    output_cairo_transparent_background=True,\n",
    "    output_width=1256,\n",
    "    output_name='wms-server-h88__m4eey',\n",
    ")\n",
    "\n",
    "area = mmap(\n",
    "        subpage_map_projection='EPSG:4326',\n",
    "        subpage_lower_left_latitude=-77.16796875,\n",
    "        subpage_lower_left_longitude=157.5,\n",
    "        subpage_upper_right_latitude=-21.4453125,\n",
    "        subpage_upper_right_longitude=326.25,\n",
    "        subpage_coordinates_system='latlon',\n",
    "        subpage_frame='off',\n",
    "        page_x_length=48.0,\n",
    "        page_y_length=15.85,\n",
    "        super_page_x_length=48.0,\n",
    "        super_page_y_length=15.85,\n",
    "        subpage_x_length=48.0,\n",
    "        subpage_y_length=15.85,\n",
    "        subpage_x_position=0.0,\n",
    "        subpage_y_position=0.0,\n",
    "        output_width=1920,\n",
    "        page_frame='off',\n",
    "        skinny_mode='on',\n",
    "        page_id_line='off',\n",
    "\n",
    ")\n",
    "coast = mcoast(map_coastline_land_shade=\"on\",\n",
    "                   map_coastline_land_shade_colour=\"rgb(0.86,0.89,0.8)\"\n",
    "                   )\n",
    "data = mnetcdf(\n",
    "        netcdf_type=\"geomatrix\",\n",
    "        netcdf_filename=file,\n",
    "        netcdf_value_variable='RR_MONTHLY_VALUES',\n",
    "        netcdf_dimension_setting=['time:0', 'RR_MONTHLY_VALUES:0'],\n",
    "        netcdf_dimension_setting_method=\"index\",\n",
    "        netcdf_latitude_variable='latitude',\n",
    "        netcdf_longitude_variable='longitude'\n",
    "    )\n",
    "#contour = mcont(contour_automatic_setting='style_name',\n",
    "#                 contour_style_name='ct_red_i2_dash'\n",
    "#                 )\n",
    "\n",
    "contour = mcont(**style)\n",
    "\n",
    "plot(out, data, area, contour)\n",
    "\n",
    "print(data)\n"
   ]
  },
  {
   "cell_type": "code",
   "execution_count": null,
   "metadata": {},
   "outputs": [],
   "source": []
  },
  {
   "cell_type": "code",
   "execution_count": null,
   "metadata": {},
   "outputs": [],
   "source": []
  }
 ],
 "metadata": {
  "kernelspec": {
   "display_name": "Python 3 (ipykernel)",
   "language": "python",
   "name": "python3"
  },
  "language_info": {
   "codemirror_mode": {
    "name": "ipython",
    "version": 3
   },
   "file_extension": ".py",
   "mimetype": "text/x-python",
   "name": "python",
   "nbconvert_exporter": "python",
   "pygments_lexer": "ipython3",
   "version": "3.9.13"
  }
 },
 "nbformat": 4,
 "nbformat_minor": 4
}
